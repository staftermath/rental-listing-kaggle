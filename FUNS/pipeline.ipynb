{
 "cells": [
  {
   "cell_type": "code",
   "execution_count": 1,
   "metadata": {
    "collapsed": true
   },
   "outputs": [],
   "source": [
    "from sklearn.pipeline import Pipeline\n",
    "from functools import partial\n",
    "import re"
   ]
  },
  {
   "cell_type": "code",
   "execution_count": 2,
   "metadata": {
    "collapsed": true
   },
   "outputs": [],
   "source": [
    "class GenerateDescriptionFeature():\n",
    "    \"\"\"\n",
    "    Generate Col features\n",
    "    \"\"\"\n",
    "    def __init__(self, fromCol, dict):\n",
    "        self.dict = copy(extractionDict)\n",
    "        self.fromCol = fromCol\n",
    "    \n",
    "    def transform(self, DF):\n",
    "        \"\"\"\n",
    "        Add feature cols\n",
    "        \"\"\"\n",
    "        for string in self.dict.keys():\n",
    "            PartialSearch = partial(self._SearchStringInRow, string=string)\n",
    "            DF[self.dict[string]] = DF[[self.fromCol]].applymap(PartialSearch)\n",
    "    \n",
    "    def _SearchStringInRow_(self, entry, string):\n",
    "        \"\"\"\n",
    "        Search if any element in an entry contains string pattern\n",
    "        \"\"\"\n",
    "        return any(list(filter(lambda x:bool(re.search(string,x.lower())), entry)))"
   ]
  },
  {
   "cell_type": "code",
   "execution_count": 3,
   "metadata": {
    "collapsed": true
   },
   "outputs": [],
   "source": [
    "class GenearteNearestNeighborFeature():\n",
    "    \"\"\"\n",
    "    Find the nearest neighbor and calculate the desired statistics within neighbors\n",
    "    \"\"\"\n",
    "    def __init__(self, position, valueCol, funs):\n",
    "        self.position = copy(position)\n",
    "        self.valueCol = valueCol\n",
    "        self.funs = funs\n",
    "        \n",
    "    def transform(self, DF, position, valueCol, maxDist):\n",
    "        \"\"\"\n",
    "        Calculate neighbors\n",
    "        \"\"\"\n",
    "        pairwise = distance.cdist(np.array(DF[position]), \\\n",
    "                          np.array(self.position), metric='chebyshev')\n",
    "        print(\"Pairwise distance calculated\")\n",
    "        indexNeighbor = [x < maxdist for x in pairwise]\n",
    "        print(\"Neightbor list obtained\")\n",
    "        del pairwise\n",
    "        newColName = 'feature_{0}_{1}_nbr_{3}'.format(valueCol, funs.__name__, maxDist)\n",
    "        DF[newColName] = [self.funs(valueCol[x]) for x in indexNeighbor]"
   ]
  },
  {
   "cell_type": "code",
   "execution_count": 5,
   "metadata": {
    "collapsed": false
   },
   "outputs": [],
   "source": [
    "class GenerateRawColAsFeature():\n",
    "    \"\"\"\n",
    "    Simply Add New col with suitable names as feature\n",
    "    \"\"\"\n",
    "    def __init__(self, featureColHeader = \"feature\"):\n",
    "        self.featureColHeader = featureColHeader\n",
    "    \n",
    "    def transform(self, DF, fromcols):\n",
    "        "
   ]
  },
  {
   "cell_type": "code",
   "execution_count": 9,
   "metadata": {
    "collapsed": false
   },
   "outputs": [],
   "source": [
    "import pandas as pd"
   ]
  },
  {
   "cell_type": "code",
   "execution_count": 18,
   "metadata": {
    "collapsed": false
   },
   "outputs": [],
   "source": [
    "testDF = pd.DataFrame()\n",
    "testDF[\"x\"] = range(5)\n",
    "testDF[\"y\"] = range(5,0,-1)"
   ]
  },
  {
   "cell_type": "code",
   "execution_count": 17,
   "metadata": {
    "collapsed": false
   },
   "outputs": [
    {
     "data": {
      "text/plain": [
       "[5, 4, 3, 2]"
      ]
     },
     "execution_count": 17,
     "metadata": {},
     "output_type": "execute_result"
    }
   ],
   "source": [
    "\n",
    "list(range(5,0,-1))"
   ]
  },
  {
   "cell_type": "code",
   "execution_count": null,
   "metadata": {
    "collapsed": true
   },
   "outputs": [],
   "source": []
  }
 ],
 "metadata": {
  "kernelspec": {
   "display_name": "Python 3",
   "language": "python",
   "name": "python3"
  },
  "language_info": {
   "codemirror_mode": {
    "name": "ipython",
    "version": 3
   },
   "file_extension": ".py",
   "mimetype": "text/x-python",
   "name": "python",
   "nbconvert_exporter": "python",
   "pygments_lexer": "ipython3",
   "version": "3.6.0"
  }
 },
 "nbformat": 4,
 "nbformat_minor": 2
}
